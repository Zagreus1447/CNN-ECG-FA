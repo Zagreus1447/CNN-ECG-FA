{
 "cells": [
  {
   "cell_type": "code",
   "execution_count": null,
   "id": "cfd1d098",
   "metadata": {},
   "outputs": [],
   "source": [
    "# Célula 1: Importações\n",
    " \n",
    "\n",
    "print(\"Bibliotecas importadas com sucesso!\")"
   ]
  }
 ],
 "metadata": {
  "kernelspec": {
   "display_name": "Python 3",
   "language": "python",
   "name": "python3"
  },
  "language_info": {
   "name": "python",
   "version": "3.10.11"
  }
 },
 "nbformat": 4,
 "nbformat_minor": 5
}
